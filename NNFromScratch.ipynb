{
  "nbformat": 4,
  "nbformat_minor": 0,
  "metadata": {
    "colab": {
      "provenance": []
    },
    "kernelspec": {
      "name": "python3",
      "display_name": "Python 3"
    },
    "language_info": {
      "name": "python"
    }
  },
  "cells": [
    {
      "cell_type": "markdown",
      "source": [
        "Import the libraries"
      ],
      "metadata": {
        "id": "x0VKjtMKmF6q"
      }
    },
    {
      "cell_type": "code",
      "execution_count": 4,
      "metadata": {
        "id": "wEMAEDY5l_g2"
      },
      "outputs": [],
      "source": [
        "import numpy as np\n",
        "import matplotlib.pyplot as plt\n",
        "%matplotlib inline"
      ]
    },
    {
      "cell_type": "markdown",
      "source": [
        "Prepare the data"
      ],
      "metadata": {
        "id": "9w9ds9_-mLIS"
      }
    },
    {
      "cell_type": "code",
      "source": [
        "X = np.array([ [0, 1], [1, 0], [1, 1],[0, 0] ])\n",
        "y = np.array([ [1], [1], [0], [0]])"
      ],
      "metadata": {
        "id": "JwVJML_bmK2o"
      },
      "execution_count": 5,
      "outputs": []
    },
    {
      "cell_type": "markdown",
      "source": [
        "Define the number of nodes in each layer"
      ],
      "metadata": {
        "id": "wGiA59GvmP4m"
      }
    },
    {
      "cell_type": "code",
      "source": [
        "num_input = 2\n",
        "num_hidden = 5\n",
        "num_output = 1"
      ],
      "metadata": {
        "id": "Of6Sz_JDmW14"
      },
      "execution_count": 6,
      "outputs": []
    },
    {
      "cell_type": "markdown",
      "source": [
        "Initialize the weights and bias randomly. First, we initialize the input to\n",
        "hidden layer weights:"
      ],
      "metadata": {
        "id": "h7sxq68gmfAZ"
      }
    },
    {
      "cell_type": "code",
      "source": [
        "Wxh = np.random.randn(num_input,num_hidden)\n",
        "bh = np.zeros((1,num_hidden))"
      ],
      "metadata": {
        "id": "eZrq2ZNfmgqD"
      },
      "execution_count": 7,
      "outputs": []
    },
    {
      "cell_type": "markdown",
      "source": [
        "Now, we initialize the hidden to output layer weights:"
      ],
      "metadata": {
        "id": "TSwWGP2Kmklo"
      }
    },
    {
      "cell_type": "code",
      "source": [
        "Why = np.random.randn (num_hidden,num_output)\n",
        "by = np.zeros((1,num_output))"
      ],
      "metadata": {
        "id": "QM1PEvHzmj07"
      },
      "execution_count": 8,
      "outputs": []
    },
    {
      "cell_type": "markdown",
      "source": [
        "Define the sigmoid activation function:"
      ],
      "metadata": {
        "id": "mCBwlZm0mu9D"
      }
    },
    {
      "cell_type": "code",
      "source": [
        "def sigmoid(z):\n",
        "  return 1 / (1+np.exp(-z))"
      ],
      "metadata": {
        "id": "aMOI6WF5munf"
      },
      "execution_count": 9,
      "outputs": []
    },
    {
      "cell_type": "markdown",
      "source": [
        "Define the derivative of the sigmoid function:"
      ],
      "metadata": {
        "id": "JtJ3qiIvm2lJ"
      }
    },
    {
      "cell_type": "code",
      "source": [
        "def sigmoid_derivative(z):\n",
        "  return np.exp(-z)/((1+np.exp(-z))**2)"
      ],
      "metadata": {
        "id": "9_gkXzugm84L"
      },
      "execution_count": 10,
      "outputs": []
    },
    {
      "cell_type": "markdown",
      "source": [
        "Define the forward propagation:"
      ],
      "metadata": {
        "id": "xrsPZeAqm__s"
      }
    },
    {
      "cell_type": "code",
      "source": [
        "def forward_prop(X,Wxh,Why):\n",
        "  z1 = np.dot(X,Wxh) + bh\n",
        "  a1 = sigmoid(z1)\n",
        "  z2 = np.dot(a1,Why) + by\n",
        "  y_hat = sigmoid(z2)\n",
        "  return z1,a1,z2,y_hat"
      ],
      "metadata": {
        "id": "K4MLL-wmnCYW"
      },
      "execution_count": 11,
      "outputs": []
    },
    {
      "cell_type": "markdown",
      "source": [
        "Define the backward propagation:"
      ],
      "metadata": {
        "id": "k0bOOgXOnGDF"
      }
    },
    {
      "cell_type": "code",
      "source": [
        "def backword_prop(y_hat, z1, a1, z2):\n",
        "  delta2 = np.multiply(-(y-y_hat),sigmoid_derivative(z2))\n",
        "  dJ_dWhy = np.dot(a1.T, delta2)\n",
        "  delta1 = np.dot(delta2,Why.T)*sigmoid_derivative(z1)\n",
        "  dJ_dWxh = np.dot(X.T, delta1)\n",
        "  return dJ_dWxh, dJ_dWhy"
      ],
      "metadata": {
        "id": "yu8Ec7BBnFy6"
      },
      "execution_count": 12,
      "outputs": []
    },
    {
      "cell_type": "markdown",
      "source": [
        "Define the cost function"
      ],
      "metadata": {
        "id": "BCplms6hnNtv"
      }
    },
    {
      "cell_type": "code",
      "source": [
        "def cost_function(y, y_hat):\n",
        "  J = 0.5*sum((y-y_hat)**2)\n",
        "  return J"
      ],
      "metadata": {
        "id": "ab1aGlNbnSsP"
      },
      "execution_count": 13,
      "outputs": []
    },
    {
      "cell_type": "markdown",
      "source": [
        "Set the learning rate and the number of training iterations"
      ],
      "metadata": {
        "id": "6Gv2C01wnZmO"
      }
    },
    {
      "cell_type": "code",
      "source": [
        "alpha = 0.01\n",
        "num_iterations = 5000"
      ],
      "metadata": {
        "id": "M-xAULejnb7U"
      },
      "execution_count": 14,
      "outputs": []
    },
    {
      "cell_type": "markdown",
      "source": [
        "Now, let's start training the network with the following code:"
      ],
      "metadata": {
        "id": "UXi4onvInd1y"
      }
    },
    {
      "cell_type": "code",
      "source": [
        "cost =[]\n",
        "for i in range(num_iterations):\n",
        "  z1,a1,z2,y_hat = forward_prop(X,Wxh,Why)\n",
        "  dJ_dWxh, dJ_dWhy = backword_prop(y_hat, z1, a1, z2)\n",
        "  Wxh = Wxh -alpha * dJ_dWxh\n",
        "  Why = Why -alpha * dJ_dWhy\n",
        "  c = cost_function(y, y_hat)\n",
        "  cost.append(c)"
      ],
      "metadata": {
        "id": "QBPALHcQnfng"
      },
      "execution_count": 15,
      "outputs": []
    },
    {
      "cell_type": "markdown",
      "source": [
        "Plot the cost function:"
      ],
      "metadata": {
        "id": "uMhSxxYcnkGw"
      }
    },
    {
      "cell_type": "code",
      "source": [
        "plt.grid()\n",
        "plt.plot(range(num_iterations),cost)\n",
        "plt.title('Cost Function')\n",
        "plt.xlabel('Training Iterations')\n",
        "plt.ylabel('Cost')"
      ],
      "metadata": {
        "colab": {
          "base_uri": "https://localhost:8080/",
          "height": 490
        },
        "id": "nFzxBTiZnnl6",
        "outputId": "8b4a81c0-4c9d-46d1-87c6-103d4167b089"
      },
      "execution_count": 17,
      "outputs": [
        {
          "output_type": "execute_result",
          "data": {
            "text/plain": [
              "Text(0, 0.5, 'Cost')"
            ]
          },
          "metadata": {},
          "execution_count": 17
        },
        {
          "output_type": "display_data",
          "data": {
            "text/plain": [
              "<Figure size 640x480 with 1 Axes>"
            ],
            "image/png": "[encoded data removed]"
          },
          "metadata": {}
        }
      ]
    }
  ]
}